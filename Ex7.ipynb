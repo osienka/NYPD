{
  "nbformat": 4,
  "nbformat_minor": 0,
  "metadata": {
    "colab": {
      "name": "Ex7.ipynb",
      "provenance": [],
      "authorship_tag": "ABX9TyODrA6Pzf+HB7+gfJDDemaD",
      "include_colab_link": true
    },
    "kernelspec": {
      "name": "python3",
      "display_name": "Python 3"
    },
    "language_info": {
      "name": "python"
    }
  },
  "cells": [
    {
      "cell_type": "markdown",
      "metadata": {
        "id": "view-in-github",
        "colab_type": "text"
      },
      "source": [
        "<a href=\"https://colab.research.google.com/github/osienka/NYPD/blob/main/Ex7.ipynb\" target=\"_parent\"><img src=\"https://colab.research.google.com/assets/colab-badge.svg\" alt=\"Open In Colab\"/></a>"
      ]
    },
    {
      "cell_type": "code",
      "execution_count": 8,
      "metadata": {
        "id": "yFP4LP_Dn-rN"
      },
      "outputs": [],
      "source": [
        "import pandas as pd\n",
        "df = pd.read_csv(\"iris.csv\")\n",
        "data = df.groupby(\"variety\")\n",
        "df1= df[df[\"variety\"] == \"Setosa\"]\n",
        "df2= df[df[\"variety\"] == \"Versicolor\"]\n",
        "df3= df[df[\"variety\"] == \"Virginica\"]\n",
        "with pd.ExcelWriter('iris2.xlsx') as writer:  \n",
        "    df1.to_excel(writer, sheet_name='Setosa')\n",
        "    df2.to_excel(writer, sheet_name='Versicolor')\n",
        "    df3.to_excel(writer, sheet_name='Virginica')"
      ]
    }
  ]
}