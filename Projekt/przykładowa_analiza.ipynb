{
 "cells": [
  {
   "cell_type": "markdown",
   "source": [
    "**Skrypt do biblioteki przetwarzania danych**\n",
    "Zofia Hendrysiak\n",
    "\n",
    "Linki do danych:\n",
    "\n",
    "https://www.gov.pl/web/finanse/udzialy-za-2020-r\n",
    "\n",
    "https://www.gov.pl/web/finanse/udzialy-za-2019-r\n",
    "\n",
    "https://stat.gov.pl/obszary-tematyczne/ludnosc/ludnosc/ludnosc-stan-i-struktura-ludnosci-oraz-ruch-naturalny-w-przekroju-terytorialnym-stan-w-dniu-31-12-2020,6,29.html\n",
    "\n",
    "Link do githuba projektu:\n",
    "\n",
    "https://github.com/osienka/NYPD.git"
   ],
   "metadata": {
    "collapsed": false
   }
  },
  {
   "cell_type": "code",
   "execution_count": null,
   "metadata": {
    "collapsed": true
   },
   "outputs": [],
   "source": [
    "!pip install ./analiza"
   ]
  },
  {
   "cell_type": "code",
   "execution_count": null,
   "outputs": [],
   "source": [
    "import matplotlib as plt\n",
    "import analiza.analizy.czytanie.wczytywanie as czyt\n",
    "import analiza.analizy.liczenie.liczenie as licz"
   ],
   "metadata": {
    "collapsed": false,
    "pycharm": {
     "name": "#%%\n"
    }
   }
  },
  {
   "cell_type": "markdown",
   "source": [
    "W poniższej komórce zadeklarowane są globalne zmienne - przyjęty procent ludności płacącej podatki oraz procent podatku\n",
    "PIT, który trafia do poszczególnych jednostek samorządu terytorialnego"
   ],
   "metadata": {
    "collapsed": false,
    "pycharm": {
     "name": "#%% md\n"
    }
   }
  },
  {
   "cell_type": "code",
   "execution_count": null,
   "outputs": [],
   "source": [
    "PROCPRAC = 0.75 ##Procent osób płacących podatki w tym emeryci\n",
    "PROCPODAT = 17 ##Wszyscy opodatkowani wg pierwszego progu - 17%\n",
    "#Procent z podatku PIT trafiający do poszczególnych jednostek samorządu terytorialnego\n",
    "PROCWOJ = 1.6\n",
    "PROCPOW = 10.25\n",
    "PROCGMIN = 39\n",
    "PROCMET = 5"
   ],
   "metadata": {
    "collapsed": false,
    "pycharm": {
     "name": "#%%\n"
    }
   }
  },
  {
   "cell_type": "code",
   "execution_count": null,
   "outputs": [],
   "source": [
    "gm20 = czyt.load_jst(\"./dane/20210215_Gminy_2_za_2020.xlsx\")\n",
    "woj20 = czyt.load_jst(\"./dane/20210211_Województwa_za_2020.xlsx\")\n",
    "pow20 = czyt.load_jst(\"./dane/20210211_Powiaty_za_2020.xlsx\")\n",
    "miasta20 = czyt.load_jst(\"./dane/20210215_Miasta_NPP_2_za_2020.xlsx\")\n",
    "gm19 = czyt.load_jst(\"./dane/20200214_Gminy_za_2019.xlsx\")\n",
    "woj19 = czyt.load_jst(\"./dane/20200214_Wojewodztwa_za_2019.xlsx\")\n",
    "pow19 = czyt.load_jst(\"./dane/20200214_Powiaty_za_2019.xlsx\")\n",
    "miasta19 = czyt.load_jst(\"./dane/20200214_Miasta_NPP_za_2019.xlsx\")\n"
   ],
   "metadata": {
    "collapsed": false,
    "pycharm": {
     "name": "#%%\n"
    }
   }
  },
  {
   "cell_type": "code",
   "execution_count": null,
   "outputs": [],
   "source": [
    "woj_lud = czyt.load_lud(\"./dane/Tabela_II.xls\")\n",
    "pow_lud = czyt.load_lud(\"./Tabela_III.xls\")\n",
    "gm_lud = czyt.load_lud(\"./Tabela_IV.xls\")\n",
    "miasta19_lud = czyt.lacz(miasta19, pow_lud)\n",
    "miasta20_lud = czyt.lacz(miasta20, pow_lud)\n",
    "gm19_lud = czyt.lacz(gm19,gm_lud)\n",
    "gm20_lud = czyt.lacz(gm20, gm_lud)\n",
    "pow20_lud = czyt.lacz(pow20,pow_lud)\n",
    "pow19_lud = czyt.lacz(pow19,pow_lud)\n",
    "woj19_lud = czyt.lacz(woj19, woj_lud)\n",
    "woj20_lud = czyt.lacz(woj20, woj_lud)"
   ],
   "metadata": {
    "collapsed": false,
    "pycharm": {
     "name": "#%%\n"
    }
   }
  },
  {
   "cell_type": "code",
   "execution_count": null,
   "outputs": [],
   "source": [
    "print(licz.sr_dochod_opodatkowany(miasta19_lud)[\"mean\"])\n",
    "licz.licz_war_i_sr(licz.sr_dochod_opodatkowany(pow20_lud))\n",
    "licz.licz_war_i_sr(licz.sr_dochod_opodatkowany(miasta19_lud))[1]\n",
    "porwoj19 = licz.porownaj_przewidywany(licz.sr_dochod_opodatkowany(woj19_lud),\n",
    "                                      licz.licz_war_i_sr(licz.sr_dochod_opodatkowany(pow19_lud))[1],\n",
    "                                      licz.licz_war_i_sr(licz.sr_dochod_opodatkowany(miasta19_lud))[1])\n",
    "plt.hist(porwoj19)"
   ],
   "metadata": {
    "collapsed": false,
    "pycharm": {
     "name": "#%%\n"
    }
   }
  },
  {
   "cell_type": "code",
   "source": [
    "porpow20 = licz.porownaj_przewidywany(licz.sr_dochod_opodatkowany(pow20_lud), licz.licz_war_i_sr(\n",
    "    licz.sr_dochod_opodatkowany(gm20_lud))[1])\n",
    "plt.hist(porpow20)\n"
   ],
   "metadata": {
    "collapsed": false,
    "pycharm": {
     "name": "#%%\n"
    }
   },
   "execution_count": null,
   "outputs": []
  }
 ],
 "metadata": {
  "kernelspec": {
   "display_name": "Python 3",
   "language": "python",
   "name": "python3"
  },
  "language_info": {
   "codemirror_mode": {
    "name": "ipython",
    "version": 2
   },
   "file_extension": ".py",
   "mimetype": "text/x-python",
   "name": "python",
   "nbconvert_exporter": "python",
   "pygments_lexer": "ipython2",
   "version": "2.7.6"
  }
 },
 "nbformat": 4,
 "nbformat_minor": 0
}